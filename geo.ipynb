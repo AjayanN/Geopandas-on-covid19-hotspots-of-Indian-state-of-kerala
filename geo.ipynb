{
  "nbformat": 4,
  "nbformat_minor": 0,
  "metadata": {
    "colab": {
      "name": "geo.ipynb",
      "provenance": [],
      "toc_visible": true
    },
    "kernelspec": {
      "name": "python3",
      "display_name": "Python 3"
    }
  },
  "cells": [
    {
      "cell_type": "markdown",
      "metadata": {
        "id": "JkXQPgDZVxez",
        "colab_type": "text"
      },
      "source": [
        "# Trying out the geospatial analysis of kerala covid 19 dataset"
      ]
    },
    {
      "cell_type": "code",
      "metadata": {
        "id": "t0xVBgeaz9w9",
        "colab_type": "code",
        "colab": {
          "base_uri": "https://localhost:8080/",
          "height": 423
        },
        "outputId": "05b43e99-528a-4726-b0ac-87222c325cf1"
      },
      "source": [
        "!pip install geopandas\n"
      ],
      "execution_count": 3,
      "outputs": [
        {
          "output_type": "stream",
          "text": [
            "Collecting geopandas\n",
            "\u001b[?25l  Downloading https://files.pythonhosted.org/packages/83/c5/3cf9cdc39a6f2552922f79915f36b45a95b71fd343cfc51170a5b6ddb6e8/geopandas-0.7.0-py2.py3-none-any.whl (928kB)\n",
            "\u001b[K     |████████████████████████████████| 931kB 7.6MB/s \n",
            "\u001b[?25hRequirement already satisfied: shapely in /usr/local/lib/python3.6/dist-packages (from geopandas) (1.7.0)\n",
            "Collecting fiona\n",
            "\u001b[?25l  Downloading https://files.pythonhosted.org/packages/ec/20/4e63bc5c6e62df889297b382c3ccd4a7a488b00946aaaf81a118158c6f09/Fiona-1.8.13.post1-cp36-cp36m-manylinux1_x86_64.whl (14.7MB)\n",
            "\u001b[K     |████████████████████████████████| 14.7MB 300kB/s \n",
            "\u001b[?25hCollecting pyproj>=2.2.0\n",
            "\u001b[?25l  Downloading https://files.pythonhosted.org/packages/e5/c3/071e080230ac4b6c64f1a2e2f9161c9737a2bc7b683d2c90b024825000c0/pyproj-2.6.1.post1-cp36-cp36m-manylinux2010_x86_64.whl (10.9MB)\n",
            "\u001b[K     |████████████████████████████████| 10.9MB 43.3MB/s \n",
            "\u001b[?25hRequirement already satisfied: pandas>=0.23.0 in /usr/local/lib/python3.6/dist-packages (from geopandas) (1.0.4)\n",
            "Collecting cligj>=0.5\n",
            "  Downloading https://files.pythonhosted.org/packages/e4/be/30a58b4b0733850280d01f8bd132591b4668ed5c7046761098d665ac2174/cligj-0.5.0-py3-none-any.whl\n",
            "Requirement already satisfied: click<8,>=4.0 in /usr/local/lib/python3.6/dist-packages (from fiona->geopandas) (7.1.2)\n",
            "Collecting click-plugins>=1.0\n",
            "  Downloading https://files.pythonhosted.org/packages/e9/da/824b92d9942f4e472702488857914bdd50f73021efea15b4cad9aca8ecef/click_plugins-1.1.1-py2.py3-none-any.whl\n",
            "Requirement already satisfied: attrs>=17 in /usr/local/lib/python3.6/dist-packages (from fiona->geopandas) (19.3.0)\n",
            "Requirement already satisfied: six>=1.7 in /usr/local/lib/python3.6/dist-packages (from fiona->geopandas) (1.12.0)\n",
            "Collecting munch\n",
            "  Downloading https://files.pythonhosted.org/packages/cc/ab/85d8da5c9a45e072301beb37ad7f833cd344e04c817d97e0cc75681d248f/munch-2.5.0-py2.py3-none-any.whl\n",
            "Requirement already satisfied: numpy>=1.13.3 in /usr/local/lib/python3.6/dist-packages (from pandas>=0.23.0->geopandas) (1.18.5)\n",
            "Requirement already satisfied: python-dateutil>=2.6.1 in /usr/local/lib/python3.6/dist-packages (from pandas>=0.23.0->geopandas) (2.8.1)\n",
            "Requirement already satisfied: pytz>=2017.2 in /usr/local/lib/python3.6/dist-packages (from pandas>=0.23.0->geopandas) (2018.9)\n",
            "Installing collected packages: cligj, click-plugins, munch, fiona, pyproj, geopandas\n",
            "Successfully installed click-plugins-1.1.1 cligj-0.5.0 fiona-1.8.13.post1 geopandas-0.7.0 munch-2.5.0 pyproj-2.6.1.post1\n"
          ],
          "name": "stdout"
        }
      ]
    },
    {
      "cell_type": "code",
      "metadata": {
        "id": "wtOP7xcQWO-M",
        "colab_type": "code",
        "colab": {}
      },
      "source": [
        "from geopandas.tools import geocode\n",
        "import pandas as pd"
      ],
      "execution_count": 0,
      "outputs": []
    },
    {
      "cell_type": "code",
      "metadata": {
        "id": "esWN3PFQ-ETJ",
        "colab_type": "code",
        "colab": {
          "base_uri": "https://localhost:8080/",
          "height": 191
        },
        "outputId": "b140551b-1db8-4c64-801d-96246c32a324"
      },
      "source": [
        "Geo = pd.read_excel(\"Geospatial.xlsx\",columns=['Sl.No','district','LSG','Ward'])\n",
        "Geo.head()"
      ],
      "execution_count": 5,
      "outputs": [
        {
          "output_type": "execute_result",
          "data": {
            "text/html": [
              "<div>\n",
              "<style scoped>\n",
              "    .dataframe tbody tr th:only-of-type {\n",
              "        vertical-align: middle;\n",
              "    }\n",
              "\n",
              "    .dataframe tbody tr th {\n",
              "        vertical-align: top;\n",
              "    }\n",
              "\n",
              "    .dataframe thead th {\n",
              "        text-align: right;\n",
              "    }\n",
              "</style>\n",
              "<table border=\"1\" class=\"dataframe\">\n",
              "  <thead>\n",
              "    <tr style=\"text-align: right;\">\n",
              "      <th></th>\n",
              "      <th>Sl. No.</th>\n",
              "      <th>District</th>\n",
              "      <th>LSGs needing special attention</th>\n",
              "      <th>Containment Zones (Ward)</th>\n",
              "    </tr>\n",
              "  </thead>\n",
              "  <tbody>\n",
              "    <tr>\n",
              "      <th>0</th>\n",
              "      <td>1</td>\n",
              "      <td>Palakkad</td>\n",
              "      <td>Akathethara</td>\n",
              "      <td>2, 3</td>\n",
              "    </tr>\n",
              "    <tr>\n",
              "      <th>1</th>\n",
              "      <td>2</td>\n",
              "      <td>Palakkad</td>\n",
              "      <td>Alanallur</td>\n",
              "      <td>1, 14, 20</td>\n",
              "    </tr>\n",
              "    <tr>\n",
              "      <th>2</th>\n",
              "      <td>3</td>\n",
              "      <td>Palakkad</td>\n",
              "      <td>Ambalappara</td>\n",
              "      <td>7, 20</td>\n",
              "    </tr>\n",
              "    <tr>\n",
              "      <th>3</th>\n",
              "      <td>4</td>\n",
              "      <td>Palakkad</td>\n",
              "      <td>Anakkara</td>\n",
              "      <td>2, 13</td>\n",
              "    </tr>\n",
              "    <tr>\n",
              "      <th>4</th>\n",
              "      <td>5</td>\n",
              "      <td>Palakkad</td>\n",
              "      <td>Chittoor-Thathamangalam</td>\n",
              "      <td>25</td>\n",
              "    </tr>\n",
              "  </tbody>\n",
              "</table>\n",
              "</div>"
            ],
            "text/plain": [
              "   Sl. No.  District LSGs needing special attention Containment Zones (Ward)\n",
              "0        1  Palakkad                    Akathethara                     2, 3\n",
              "1        2  Palakkad                      Alanallur                1, 14, 20\n",
              "2        3  Palakkad                    Ambalappara                    7, 20\n",
              "3        4  Palakkad                       Anakkara                    2, 13\n",
              "4        5  Palakkad        Chittoor-Thathamangalam                       25"
            ]
          },
          "metadata": {
            "tags": []
          },
          "execution_count": 5
        }
      ]
    },
    {
      "cell_type": "code",
      "metadata": {
        "id": "gqTq6TxC_VKL",
        "colab_type": "code",
        "colab": {}
      },
      "source": [
        "Geo.rename(columns={'Sl. No.':'Sl.No',\n",
        "                          'District':'district',\n",
        "                          'LSGs needing special attention':'LSG',\n",
        "                    'Containment Zones (Ward)':'Ward'}, \n",
        "                 inplace=True)"
      ],
      "execution_count": 0,
      "outputs": []
    },
    {
      "cell_type": "code",
      "metadata": {
        "id": "a6vSU1_k-R_1",
        "colab_type": "code",
        "colab": {
          "base_uri": "https://localhost:8080/",
          "height": 505
        },
        "outputId": "40c7735b-ecb2-41ff-a4e0-34301eec17b0"
      },
      "source": [
        "Geo.LSG.unique()"
      ],
      "execution_count": 7,
      "outputs": [
        {
          "output_type": "execute_result",
          "data": {
            "text/plain": [
              "array(['Akathethara', 'Alanallur', 'Ambalappara', 'Anakkara',\n",
              "       'Chittoor-Thathamangalam', 'Cheruppulasherry', 'Elappally',\n",
              "       'Kannadi', 'Karakurishi', 'Koduvayoor', 'Kollengode', 'Koppam',\n",
              "       'Kunisherri', 'Lakkidi Peroor', 'Mannarkad (M)', 'Mundoor',\n",
              "       'Nellay', 'Palakkad (M)', 'Pattambi', 'Pattithara', 'Perumatty',\n",
              "       'Pirayiri', 'Pookkottukavu', 'Puthupariyaram', 'Puthusherry',\n",
              "       'Sreekrishnapuram', 'Thachampara', 'Tharoor', 'Thenkara',\n",
              "       'Thrikkadeeri', 'Vadakkancheri', 'Vallappuzha', 'Vaniyamkulam',\n",
              "       'Vilayur', 'Shornoor', 'Alakode', 'Anthoor (M)', 'Chembilode',\n",
              "       'Cherupuzha', 'Chokli', 'Dharmadam', 'Eruvessy', 'Iritty (M)',\n",
              "       'Kadannappally-Panappuzha', 'Kanichar', 'Kannapuram', 'Kannur (C)',\n",
              "       'Kottayam Malabar', 'Kuttiattur', 'Mangattidam', 'Mattannur (M)',\n",
              "       'Mattool', 'Mayyil', 'Munderi', 'Muzhappilangad', 'Muzhakunnu',\n",
              "       'Naduvil', 'Panniyannur', 'Panoor (M)', 'Pappinissery', 'Pattiam',\n",
              "       'Payyannur (M)', 'Peravoor', 'Thalassery', 'Thillankery',\n",
              "       'Udayagiri', 'Vengad', 'Badiadkka', 'Chemnad', 'Chengala',\n",
              "       'Cheruvathur', 'Kasargod (M)', 'Kanhangad', 'Karadukka',\n",
              "       'Kodom Belur', 'Kumbala', 'Madhur', 'Mangalpady', 'Meenja',\n",
              "       'Nileshwar', 'Padane', 'Pallikkara', 'Pullur Periya', 'Uduma',\n",
              "       'Valiyaparamba', 'Kinanoor Karindalam', 'Kalluvathukkal',\n",
              "       'Panmana', 'Punalur (M)', 'Adichanallur', 'Kulathooppuzha',\n",
              "       'Aryankavu', 'Avanur', 'Adat', 'Cherpu', 'Vadakkekad', 'Thrikkur',\n",
              "       'Irinjalakuda (M)', 'Vadanappilli', 'Engandiyur', 'Chavakkad (M)',\n",
              "       'Thrissur (C)', 'Alagappa Nagar', 'Vellangallur', 'Tholur',\n",
              "       'Anakkayam', 'Athavanadu', 'Thennala', 'Tirurangadi (M)',\n",
              "       'Manjeri (M)', 'Moorkkanadu', 'Kuruva', 'Kalpakancherry',\n",
              "       'Edappal', 'Vattakkulam', 'Vellavoor', 'Paippad',\n",
              "       'Changanasherry (M)', 'Madappally', 'Aymanam', 'Kangazha',\n",
              "       'Koruthodu', 'Thrikkodithanam', 'Sulthan Bathery (M)', 'Kumali'],\n",
              "      dtype=object)"
            ]
          },
          "metadata": {
            "tags": []
          },
          "execution_count": 7
        }
      ]
    },
    {
      "cell_type": "code",
      "metadata": {
        "id": "RRevAJzGq3V6",
        "colab_type": "code",
        "colab": {}
      },
      "source": [
        "Geo['Latitude'] = ''*len(Geo)\n",
        "Geo['Longitude'] = ''*len(Geo)\n",
        "Geo['geometry'] = ''*len(Geo)"
      ],
      "execution_count": 0,
      "outputs": []
    },
    {
      "cell_type": "code",
      "metadata": {
        "id": "G54I5Er30F76",
        "colab_type": "code",
        "colab": {}
      },
      "source": [
        "\n",
        "def my_geocoder(row):\n",
        "  try:\n",
        "    point = geocode(row).geometry.iloc[0]\n",
        "    return pd.Series({'Latitude': point.y, 'Longitude': point.x, 'geometry': point})\n",
        "  except:\n",
        "    return None\n",
        " \n",
        "Geo[['Latitude','Longitude','geometry']] = Geo.apply(lambda x: my_geocoder(x['LSG']), axis=1)\n"
      ],
      "execution_count": 0,
      "outputs": []
    },
    {
      "cell_type": "code",
      "metadata": {
        "id": "0mBVWIlrpoF5",
        "colab_type": "code",
        "colab": {
          "base_uri": "https://localhost:8080/",
          "height": 391
        },
        "outputId": "d4d8aa27-52b5-48c2-aa35-061b80d87492"
      },
      "source": [
        "Geo[['Latitude','Longitude','geometry']]"
      ],
      "execution_count": 10,
      "outputs": [
        {
          "output_type": "execute_result",
          "data": {
            "text/html": [
              "<div>\n",
              "<style scoped>\n",
              "    .dataframe tbody tr th:only-of-type {\n",
              "        vertical-align: middle;\n",
              "    }\n",
              "\n",
              "    .dataframe tbody tr th {\n",
              "        vertical-align: top;\n",
              "    }\n",
              "\n",
              "    .dataframe thead th {\n",
              "        text-align: right;\n",
              "    }\n",
              "</style>\n",
              "<table border=\"1\" class=\"dataframe\">\n",
              "  <thead>\n",
              "    <tr style=\"text-align: right;\">\n",
              "      <th></th>\n",
              "      <th>Latitude</th>\n",
              "      <th>Longitude</th>\n",
              "      <th>geometry</th>\n",
              "    </tr>\n",
              "  </thead>\n",
              "  <tbody>\n",
              "    <tr>\n",
              "      <th>0</th>\n",
              "      <td>10.832278</td>\n",
              "      <td>76.639961</td>\n",
              "      <td>POINT (76.6399612426125 10.8322782516177)</td>\n",
              "    </tr>\n",
              "    <tr>\n",
              "      <th>1</th>\n",
              "      <td>NaN</td>\n",
              "      <td>NaN</td>\n",
              "      <td>None</td>\n",
              "    </tr>\n",
              "    <tr>\n",
              "      <th>2</th>\n",
              "      <td>10.831723</td>\n",
              "      <td>76.406776</td>\n",
              "      <td>POINT (76.4067764282125 10.8317232131177)</td>\n",
              "    </tr>\n",
              "    <tr>\n",
              "      <th>3</th>\n",
              "      <td>9.666600</td>\n",
              "      <td>77.162567</td>\n",
              "      <td>POINT (77.1625671386126 9.666600227315829)</td>\n",
              "    </tr>\n",
              "    <tr>\n",
              "      <th>4</th>\n",
              "      <td>13.219500</td>\n",
              "      <td>79.103302</td>\n",
              "      <td>POINT (79.10330200191289 13.2194995880216)</td>\n",
              "    </tr>\n",
              "    <tr>\n",
              "      <th>...</th>\n",
              "      <td>...</td>\n",
              "      <td>...</td>\n",
              "      <td>...</td>\n",
              "    </tr>\n",
              "    <tr>\n",
              "      <th>120</th>\n",
              "      <td>NaN</td>\n",
              "      <td>NaN</td>\n",
              "      <td>None</td>\n",
              "    </tr>\n",
              "    <tr>\n",
              "      <th>121</th>\n",
              "      <td>9.466670</td>\n",
              "      <td>76.949997</td>\n",
              "      <td>POINT (76.9499969482126 9.46667003631155)</td>\n",
              "    </tr>\n",
              "    <tr>\n",
              "      <th>122</th>\n",
              "      <td>NaN</td>\n",
              "      <td>NaN</td>\n",
              "      <td>None</td>\n",
              "    </tr>\n",
              "    <tr>\n",
              "      <th>123</th>\n",
              "      <td>31.835560</td>\n",
              "      <td>76.985214</td>\n",
              "      <td>POINT (76.9852142333126 31.8355598449521)</td>\n",
              "    </tr>\n",
              "    <tr>\n",
              "      <th>124</th>\n",
              "      <td>54.211700</td>\n",
              "      <td>-0.806600</td>\n",
              "      <td>POINT (-0.80659997463213 54.2117004394888)</td>\n",
              "    </tr>\n",
              "  </tbody>\n",
              "</table>\n",
              "<p>125 rows × 3 columns</p>\n",
              "</div>"
            ],
            "text/plain": [
              "      Latitude  Longitude                                    geometry\n",
              "0    10.832278  76.639961   POINT (76.6399612426125 10.8322782516177)\n",
              "1          NaN        NaN                                        None\n",
              "2    10.831723  76.406776   POINT (76.4067764282125 10.8317232131177)\n",
              "3     9.666600  77.162567  POINT (77.1625671386126 9.666600227315829)\n",
              "4    13.219500  79.103302  POINT (79.10330200191289 13.2194995880216)\n",
              "..         ...        ...                                         ...\n",
              "120        NaN        NaN                                        None\n",
              "121   9.466670  76.949997   POINT (76.9499969482126 9.46667003631155)\n",
              "122        NaN        NaN                                        None\n",
              "123  31.835560  76.985214   POINT (76.9852142333126 31.8355598449521)\n",
              "124  54.211700  -0.806600  POINT (-0.80659997463213 54.2117004394888)\n",
              "\n",
              "[125 rows x 3 columns]"
            ]
          },
          "metadata": {
            "tags": []
          },
          "execution_count": 10
        }
      ]
    },
    {
      "cell_type": "code",
      "metadata": {
        "id": "jDcQbnCAJCvR",
        "colab_type": "code",
        "colab": {}
      },
      "source": [
        "import numpy as np\n"
      ],
      "execution_count": 0,
      "outputs": []
    },
    {
      "cell_type": "code",
      "metadata": {
        "id": "zgFzB8rWI-IO",
        "colab_type": "code",
        "colab": {
          "base_uri": "https://localhost:8080/",
          "height": 260
        },
        "outputId": "e4da8f9a-5cd0-4715-b178-7dc067bf0511"
      },
      "source": [
        "import geopandas as gpd\n",
        "print(\"{}% of addresses were geocoded!\".format(\n",
        "    (1 - sum(np.isnan(Geo[\"Latitude\"])) / len(Geo)) * 100))\n",
        "\n",
        "# Drop universities that were not successfully geocoded\n",
        "Geo = Geo.loc[~np.isnan(Geo[\"Latitude\"])]\n",
        "Geo = gpd.GeoDataFrame(Geo, geometry=Geo.geometry)\n",
        "Geo.crs = {'init': 'epsg:4326'}\n",
        "Geo.head()"
      ],
      "execution_count": 12,
      "outputs": [
        {
          "output_type": "stream",
          "text": [
            "60.0% of addresses were geocoded!\n"
          ],
          "name": "stdout"
        },
        {
          "output_type": "stream",
          "text": [
            "/usr/local/lib/python3.6/dist-packages/pyproj/crs/crs.py:53: FutureWarning: '+init=<authority>:<code>' syntax is deprecated. '<authority>:<code>' is the preferred initialization method. When making the change, be mindful of axis order changes: https://pyproj4.github.io/pyproj/stable/gotchas.html#axis-order-changes-in-proj-6\n",
            "  return _prepare_from_string(\" \".join(pjargs))\n"
          ],
          "name": "stderr"
        },
        {
          "output_type": "execute_result",
          "data": {
            "text/html": [
              "<div>\n",
              "<style scoped>\n",
              "    .dataframe tbody tr th:only-of-type {\n",
              "        vertical-align: middle;\n",
              "    }\n",
              "\n",
              "    .dataframe tbody tr th {\n",
              "        vertical-align: top;\n",
              "    }\n",
              "\n",
              "    .dataframe thead th {\n",
              "        text-align: right;\n",
              "    }\n",
              "</style>\n",
              "<table border=\"1\" class=\"dataframe\">\n",
              "  <thead>\n",
              "    <tr style=\"text-align: right;\">\n",
              "      <th></th>\n",
              "      <th>Sl.No</th>\n",
              "      <th>district</th>\n",
              "      <th>LSG</th>\n",
              "      <th>Ward</th>\n",
              "      <th>Latitude</th>\n",
              "      <th>Longitude</th>\n",
              "      <th>geometry</th>\n",
              "    </tr>\n",
              "  </thead>\n",
              "  <tbody>\n",
              "    <tr>\n",
              "      <th>0</th>\n",
              "      <td>1</td>\n",
              "      <td>Palakkad</td>\n",
              "      <td>Akathethara</td>\n",
              "      <td>2, 3</td>\n",
              "      <td>10.832278</td>\n",
              "      <td>76.639961</td>\n",
              "      <td>POINT (76.63996 10.83228)</td>\n",
              "    </tr>\n",
              "    <tr>\n",
              "      <th>2</th>\n",
              "      <td>3</td>\n",
              "      <td>Palakkad</td>\n",
              "      <td>Ambalappara</td>\n",
              "      <td>7, 20</td>\n",
              "      <td>10.831723</td>\n",
              "      <td>76.406776</td>\n",
              "      <td>POINT (76.40678 10.83172)</td>\n",
              "    </tr>\n",
              "    <tr>\n",
              "      <th>3</th>\n",
              "      <td>4</td>\n",
              "      <td>Palakkad</td>\n",
              "      <td>Anakkara</td>\n",
              "      <td>2, 13</td>\n",
              "      <td>9.666600</td>\n",
              "      <td>77.162567</td>\n",
              "      <td>POINT (77.16257 9.66660)</td>\n",
              "    </tr>\n",
              "    <tr>\n",
              "      <th>4</th>\n",
              "      <td>5</td>\n",
              "      <td>Palakkad</td>\n",
              "      <td>Chittoor-Thathamangalam</td>\n",
              "      <td>25</td>\n",
              "      <td>13.219500</td>\n",
              "      <td>79.103302</td>\n",
              "      <td>POINT (79.10330 13.21950)</td>\n",
              "    </tr>\n",
              "    <tr>\n",
              "      <th>5</th>\n",
              "      <td>6</td>\n",
              "      <td>Palakkad</td>\n",
              "      <td>Cheruppulasherry</td>\n",
              "      <td>27</td>\n",
              "      <td>10.876437</td>\n",
              "      <td>76.304207</td>\n",
              "      <td>POINT (76.30421 10.87644)</td>\n",
              "    </tr>\n",
              "  </tbody>\n",
              "</table>\n",
              "</div>"
            ],
            "text/plain": [
              "   Sl.No  district  ...  Longitude                   geometry\n",
              "0      1  Palakkad  ...  76.639961  POINT (76.63996 10.83228)\n",
              "2      3  Palakkad  ...  76.406776  POINT (76.40678 10.83172)\n",
              "3      4  Palakkad  ...  77.162567   POINT (77.16257 9.66660)\n",
              "4      5  Palakkad  ...  79.103302  POINT (79.10330 13.21950)\n",
              "5      6  Palakkad  ...  76.304207  POINT (76.30421 10.87644)\n",
              "\n",
              "[5 rows x 7 columns]"
            ]
          },
          "metadata": {
            "tags": []
          },
          "execution_count": 12
        }
      ]
    },
    {
      "cell_type": "code",
      "metadata": {
        "id": "yKX3xHO8DH2d",
        "colab_type": "code",
        "colab": {}
      },
      "source": [
        "def split_row(df):\n",
        "  if ',' in str(df.Ward):\n",
        "    return str(df.Ward).split(',')\n",
        "  else:\n",
        "    return [str(df.Ward)]\n",
        "\n",
        "Geo['new'] = Geo.apply(split_row,axis=1)"
      ],
      "execution_count": 0,
      "outputs": []
    },
    {
      "cell_type": "code",
      "metadata": {
        "id": "DnXgG7hrFAij",
        "colab_type": "code",
        "colab": {
          "base_uri": "https://localhost:8080/",
          "height": 391
        },
        "outputId": "3bf3ea1c-ea59-4fe4-842c-d53e9fbcef81"
      },
      "source": [
        "Geo"
      ],
      "execution_count": 17,
      "outputs": [
        {
          "output_type": "execute_result",
          "data": {
            "text/html": [
              "<div>\n",
              "<style scoped>\n",
              "    .dataframe tbody tr th:only-of-type {\n",
              "        vertical-align: middle;\n",
              "    }\n",
              "\n",
              "    .dataframe tbody tr th {\n",
              "        vertical-align: top;\n",
              "    }\n",
              "\n",
              "    .dataframe thead th {\n",
              "        text-align: right;\n",
              "    }\n",
              "</style>\n",
              "<table border=\"1\" class=\"dataframe\">\n",
              "  <thead>\n",
              "    <tr style=\"text-align: right;\">\n",
              "      <th></th>\n",
              "      <th>Sl.No</th>\n",
              "      <th>district</th>\n",
              "      <th>LSG</th>\n",
              "      <th>Ward</th>\n",
              "      <th>Latitude</th>\n",
              "      <th>Longitude</th>\n",
              "      <th>geometry</th>\n",
              "      <th>new</th>\n",
              "    </tr>\n",
              "  </thead>\n",
              "  <tbody>\n",
              "    <tr>\n",
              "      <th>0</th>\n",
              "      <td>1</td>\n",
              "      <td>Palakkad</td>\n",
              "      <td>Akathethara</td>\n",
              "      <td>2, 3</td>\n",
              "      <td>10.832278</td>\n",
              "      <td>76.639961</td>\n",
              "      <td>POINT (76.63996 10.83228)</td>\n",
              "      <td>[2,  3]</td>\n",
              "    </tr>\n",
              "    <tr>\n",
              "      <th>2</th>\n",
              "      <td>3</td>\n",
              "      <td>Palakkad</td>\n",
              "      <td>Ambalappara</td>\n",
              "      <td>7, 20</td>\n",
              "      <td>10.831723</td>\n",
              "      <td>76.406776</td>\n",
              "      <td>POINT (76.40678 10.83172)</td>\n",
              "      <td>[7,  20]</td>\n",
              "    </tr>\n",
              "    <tr>\n",
              "      <th>3</th>\n",
              "      <td>4</td>\n",
              "      <td>Palakkad</td>\n",
              "      <td>Anakkara</td>\n",
              "      <td>2, 13</td>\n",
              "      <td>9.666600</td>\n",
              "      <td>77.162567</td>\n",
              "      <td>POINT (77.16257 9.66660)</td>\n",
              "      <td>[2,  13]</td>\n",
              "    </tr>\n",
              "    <tr>\n",
              "      <th>4</th>\n",
              "      <td>5</td>\n",
              "      <td>Palakkad</td>\n",
              "      <td>Chittoor-Thathamangalam</td>\n",
              "      <td>25</td>\n",
              "      <td>13.219500</td>\n",
              "      <td>79.103302</td>\n",
              "      <td>POINT (79.10330 13.21950)</td>\n",
              "      <td>[25]</td>\n",
              "    </tr>\n",
              "    <tr>\n",
              "      <th>5</th>\n",
              "      <td>6</td>\n",
              "      <td>Palakkad</td>\n",
              "      <td>Cheruppulasherry</td>\n",
              "      <td>27</td>\n",
              "      <td>10.876437</td>\n",
              "      <td>76.304207</td>\n",
              "      <td>POINT (76.30421 10.87644)</td>\n",
              "      <td>[27]</td>\n",
              "    </tr>\n",
              "    <tr>\n",
              "      <th>...</th>\n",
              "      <td>...</td>\n",
              "      <td>...</td>\n",
              "      <td>...</td>\n",
              "      <td>...</td>\n",
              "      <td>...</td>\n",
              "      <td>...</td>\n",
              "      <td>...</td>\n",
              "      <td>...</td>\n",
              "    </tr>\n",
              "    <tr>\n",
              "      <th>118</th>\n",
              "      <td>119</td>\n",
              "      <td>Kottayam</td>\n",
              "      <td>Madappally</td>\n",
              "      <td>5, 9</td>\n",
              "      <td>9.461753</td>\n",
              "      <td>76.590668</td>\n",
              "      <td>POINT (76.59067 9.46175)</td>\n",
              "      <td>[5,  9]</td>\n",
              "    </tr>\n",
              "    <tr>\n",
              "      <th>119</th>\n",
              "      <td>120</td>\n",
              "      <td>Kottayam</td>\n",
              "      <td>Aymanam</td>\n",
              "      <td>3</td>\n",
              "      <td>9.617530</td>\n",
              "      <td>76.509758</td>\n",
              "      <td>POINT (76.50976 9.61753)</td>\n",
              "      <td>[3]</td>\n",
              "    </tr>\n",
              "    <tr>\n",
              "      <th>121</th>\n",
              "      <td>122</td>\n",
              "      <td>Kottayam</td>\n",
              "      <td>Koruthodu</td>\n",
              "      <td>8</td>\n",
              "      <td>9.466670</td>\n",
              "      <td>76.949997</td>\n",
              "      <td>POINT (76.95000 9.46667)</td>\n",
              "      <td>[8]</td>\n",
              "    </tr>\n",
              "    <tr>\n",
              "      <th>123</th>\n",
              "      <td>124</td>\n",
              "      <td>Wayanad</td>\n",
              "      <td>Sulthan Bathery (M)</td>\n",
              "      <td>6, 7, 9, 10, 11, 12, 13, 14, 15,16, 22, 23, 24...</td>\n",
              "      <td>31.835560</td>\n",
              "      <td>76.985214</td>\n",
              "      <td>POINT (76.98521 31.83556)</td>\n",
              "      <td>[6,  7,  9,  10,  11,  12,  13,  14,  15, 16, ...</td>\n",
              "    </tr>\n",
              "    <tr>\n",
              "      <th>124</th>\n",
              "      <td>125</td>\n",
              "      <td>Idukki</td>\n",
              "      <td>Kumali</td>\n",
              "      <td>14</td>\n",
              "      <td>54.211700</td>\n",
              "      <td>-0.806600</td>\n",
              "      <td>POINT (-0.80660 54.21170)</td>\n",
              "      <td>[14]</td>\n",
              "    </tr>\n",
              "  </tbody>\n",
              "</table>\n",
              "<p>75 rows × 8 columns</p>\n",
              "</div>"
            ],
            "text/plain": [
              "     Sl.No  ...                                                new\n",
              "0        1  ...                                            [2,  3]\n",
              "2        3  ...                                           [7,  20]\n",
              "3        4  ...                                           [2,  13]\n",
              "4        5  ...                                               [25]\n",
              "5        6  ...                                               [27]\n",
              "..     ...  ...                                                ...\n",
              "118    119  ...                                            [5,  9]\n",
              "119    120  ...                                                [3]\n",
              "121    122  ...                                                [8]\n",
              "123    124  ...  [6,  7,  9,  10,  11,  12,  13,  14,  15, 16, ...\n",
              "124    125  ...                                               [14]\n",
              "\n",
              "[75 rows x 8 columns]"
            ]
          },
          "metadata": {
            "tags": []
          },
          "execution_count": 17
        }
      ]
    },
    {
      "cell_type": "code",
      "metadata": {
        "id": "i6l_aQbAIUze",
        "colab_type": "code",
        "colab": {}
      },
      "source": [
        "# convert to list\n",
        "Geo['Ward'] = Geo['Ward'].str.split(',')\n",
        "\n",
        "# convert list of pd.Series then stack it\n",
        "Geo = (Geo\n",
        " .set_index(['Sl.No', 'district', 'LSG', 'Latitude', 'Longitude'])['new']\n",
        " .apply(pd.Series)\n",
        " .stack()\n",
        " .reset_index()\n",
        " .rename(columns={0:'component'}))\n"
      ],
      "execution_count": 0,
      "outputs": []
    },
    {
      "cell_type": "code",
      "metadata": {
        "id": "QStxVdVz6MpJ",
        "colab_type": "code",
        "colab": {
          "base_uri": "https://localhost:8080/",
          "height": 391
        },
        "outputId": "0860875a-2ad5-4784-ea4e-4f8e9603eaa1"
      },
      "source": [
        "Geo"
      ],
      "execution_count": 19,
      "outputs": [
        {
          "output_type": "execute_result",
          "data": {
            "text/html": [
              "<div>\n",
              "<style scoped>\n",
              "    .dataframe tbody tr th:only-of-type {\n",
              "        vertical-align: middle;\n",
              "    }\n",
              "\n",
              "    .dataframe tbody tr th {\n",
              "        vertical-align: top;\n",
              "    }\n",
              "\n",
              "    .dataframe thead th {\n",
              "        text-align: right;\n",
              "    }\n",
              "</style>\n",
              "<table border=\"1\" class=\"dataframe\">\n",
              "  <thead>\n",
              "    <tr style=\"text-align: right;\">\n",
              "      <th></th>\n",
              "      <th>Sl.No</th>\n",
              "      <th>district</th>\n",
              "      <th>LSG</th>\n",
              "      <th>Latitude</th>\n",
              "      <th>Longitude</th>\n",
              "      <th>level_5</th>\n",
              "      <th>component</th>\n",
              "    </tr>\n",
              "  </thead>\n",
              "  <tbody>\n",
              "    <tr>\n",
              "      <th>0</th>\n",
              "      <td>1</td>\n",
              "      <td>Palakkad</td>\n",
              "      <td>Akathethara</td>\n",
              "      <td>10.832278</td>\n",
              "      <td>76.639961</td>\n",
              "      <td>0</td>\n",
              "      <td>2</td>\n",
              "    </tr>\n",
              "    <tr>\n",
              "      <th>1</th>\n",
              "      <td>1</td>\n",
              "      <td>Palakkad</td>\n",
              "      <td>Akathethara</td>\n",
              "      <td>10.832278</td>\n",
              "      <td>76.639961</td>\n",
              "      <td>1</td>\n",
              "      <td>3</td>\n",
              "    </tr>\n",
              "    <tr>\n",
              "      <th>2</th>\n",
              "      <td>3</td>\n",
              "      <td>Palakkad</td>\n",
              "      <td>Ambalappara</td>\n",
              "      <td>10.831723</td>\n",
              "      <td>76.406776</td>\n",
              "      <td>0</td>\n",
              "      <td>7</td>\n",
              "    </tr>\n",
              "    <tr>\n",
              "      <th>3</th>\n",
              "      <td>3</td>\n",
              "      <td>Palakkad</td>\n",
              "      <td>Ambalappara</td>\n",
              "      <td>10.831723</td>\n",
              "      <td>76.406776</td>\n",
              "      <td>1</td>\n",
              "      <td>20</td>\n",
              "    </tr>\n",
              "    <tr>\n",
              "      <th>4</th>\n",
              "      <td>4</td>\n",
              "      <td>Palakkad</td>\n",
              "      <td>Anakkara</td>\n",
              "      <td>9.666600</td>\n",
              "      <td>77.162567</td>\n",
              "      <td>0</td>\n",
              "      <td>2</td>\n",
              "    </tr>\n",
              "    <tr>\n",
              "      <th>...</th>\n",
              "      <td>...</td>\n",
              "      <td>...</td>\n",
              "      <td>...</td>\n",
              "      <td>...</td>\n",
              "      <td>...</td>\n",
              "      <td>...</td>\n",
              "      <td>...</td>\n",
              "    </tr>\n",
              "    <tr>\n",
              "      <th>145</th>\n",
              "      <td>124</td>\n",
              "      <td>Wayanad</td>\n",
              "      <td>Sulthan Bathery (M)</td>\n",
              "      <td>31.835560</td>\n",
              "      <td>76.985214</td>\n",
              "      <td>10</td>\n",
              "      <td>22</td>\n",
              "    </tr>\n",
              "    <tr>\n",
              "      <th>146</th>\n",
              "      <td>124</td>\n",
              "      <td>Wayanad</td>\n",
              "      <td>Sulthan Bathery (M)</td>\n",
              "      <td>31.835560</td>\n",
              "      <td>76.985214</td>\n",
              "      <td>11</td>\n",
              "      <td>23</td>\n",
              "    </tr>\n",
              "    <tr>\n",
              "      <th>147</th>\n",
              "      <td>124</td>\n",
              "      <td>Wayanad</td>\n",
              "      <td>Sulthan Bathery (M)</td>\n",
              "      <td>31.835560</td>\n",
              "      <td>76.985214</td>\n",
              "      <td>12</td>\n",
              "      <td>24</td>\n",
              "    </tr>\n",
              "    <tr>\n",
              "      <th>148</th>\n",
              "      <td>124</td>\n",
              "      <td>Wayanad</td>\n",
              "      <td>Sulthan Bathery (M)</td>\n",
              "      <td>31.835560</td>\n",
              "      <td>76.985214</td>\n",
              "      <td>13</td>\n",
              "      <td>32</td>\n",
              "    </tr>\n",
              "    <tr>\n",
              "      <th>149</th>\n",
              "      <td>125</td>\n",
              "      <td>Idukki</td>\n",
              "      <td>Kumali</td>\n",
              "      <td>54.211700</td>\n",
              "      <td>-0.806600</td>\n",
              "      <td>0</td>\n",
              "      <td>14</td>\n",
              "    </tr>\n",
              "  </tbody>\n",
              "</table>\n",
              "<p>150 rows × 7 columns</p>\n",
              "</div>"
            ],
            "text/plain": [
              "     Sl.No  district                  LSG  ...  Longitude  level_5  component\n",
              "0        1  Palakkad          Akathethara  ...  76.639961        0          2\n",
              "1        1  Palakkad          Akathethara  ...  76.639961        1          3\n",
              "2        3  Palakkad          Ambalappara  ...  76.406776        0          7\n",
              "3        3  Palakkad          Ambalappara  ...  76.406776        1         20\n",
              "4        4  Palakkad             Anakkara  ...  77.162567        0          2\n",
              "..     ...       ...                  ...  ...        ...      ...        ...\n",
              "145    124   Wayanad  Sulthan Bathery (M)  ...  76.985214       10         22\n",
              "146    124   Wayanad  Sulthan Bathery (M)  ...  76.985214       11         23\n",
              "147    124   Wayanad  Sulthan Bathery (M)  ...  76.985214       12         24\n",
              "148    124   Wayanad  Sulthan Bathery (M)  ...  76.985214       13         32\n",
              "149    125    Idukki               Kumali  ...  -0.806600        0         14\n",
              "\n",
              "[150 rows x 7 columns]"
            ]
          },
          "metadata": {
            "tags": []
          },
          "execution_count": 19
        }
      ]
    },
    {
      "cell_type": "code",
      "metadata": {
        "id": "OlH-OQAeHRpy",
        "colab_type": "code",
        "colab": {}
      },
      "source": [
        "import folium\n",
        "from folium import Choropleth, Circle, Marker\n",
        "from folium.plugins import HeatMap, MarkerCluster\n",
        "import math"
      ],
      "execution_count": 0,
      "outputs": []
    },
    {
      "cell_type": "code",
      "metadata": {
        "id": "_aZjNQLyFcr1",
        "colab_type": "code",
        "colab": {
          "base_uri": "https://localhost:8080/",
          "height": 1000
        },
        "outputId": "3b03c71c-9a92-48b7-af5f-50765109635e"
      },
      "source": [
        "# Create the map\n",
        "m_3 = folium.Map(location=[10.8505, 76.2711], tiles='cartodbpositron', zoom_start=13)\n",
        "\n",
        "# Add points to the map\n",
        "mc = MarkerCluster()\n",
        "for idx, row in Geo.iterrows():\n",
        "    if not math.isnan(row['Longitude']) and not math.isnan(row['Latitude']):\n",
        "        mc.add_child(Marker([row['Latitude'], row['Longitude']]))\n",
        "m_3.add_child(mc)\n",
        "\n",
        "# Display the map\n",
        "m_3"
      ],
      "execution_count": 24,
      "outputs": [
        {
          "output_type": "execute_result",
          "data": {
            "text/html": [
              "<div style=\"width:100%;\"><div style=\"position:relative;width:100%;height:0;padding-bottom:60%;\"><span style=\"color:#565656\">Make this Notebook Trusted to load map: File -> Trust Notebook</span><iframe src=\"about:blank\" style=\"position:absolute;width:100%;height:100%;left:0;top:0;border:none !important;\" data-html=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 onload=\"this.contentDocument.open();this.contentDocument.write(atob(this.getAttribute('data-html')));this.contentDocument.close();\" allowfullscreen webkitallowfullscreen mozallowfullscreen></iframe></div></div>"
            ],
            "text/plain": [
              "<folium.folium.Map at 0x7f680916ff98>"
            ]
          },
          "metadata": {
            "tags": []
          },
          "execution_count": 24
        }
      ]
    }
  ]
}